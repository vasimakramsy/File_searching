{
 "cells": [
  {
   "cell_type": "code",
   "execution_count": null,
   "metadata": {},
   "outputs": [],
   "source": [
    "## importing required libraries\n",
    "\n",
    "from datetime import datetime # for time calculation\n",
    "\n",
    "import os # for os operation\n",
    "\n",
    "from os import scandir"
   ]
  },
  {
   "cell_type": "code",
   "execution_count": null,
   "metadata": {},
   "outputs": [],
   "source": [
    "# write function for date conversion\n",
    "\n",
    "def date_Converter(timestamp):\n",
    "    date = datetime.utcfromtimestamp(timestamp)\n",
    "    formated_date = date.strftime('%d %b %Y')\n",
    "    return formated_date\n",
    "    "
   ]
  },
  {
   "cell_type": "code",
   "execution_count": null,
   "metadata": {},
   "outputs": [],
   "source": [
    "# write function for searching\n",
    "\n",
    "def get_file():\n",
    "    dir_files = scandir('/home/vasim/Desktop/')\n",
    "    for file in dir_files:\n",
    "        if file.is_file():\n",
    "            info = file.stat()\n",
    "            print(f'{file.name}\\t last_veiwed: {date_Converter(info.st_mtime)}')"
   ]
  },
  {
   "cell_type": "code",
   "execution_count": null,
   "metadata": {},
   "outputs": [],
   "source": [
    "# callthe function\n",
    "\n",
    "get_file()"
   ]
  },
  {
   "cell_type": "code",
   "execution_count": null,
   "metadata": {},
   "outputs": [],
   "source": []
  },
  {
   "cell_type": "code",
   "execution_count": null,
   "metadata": {},
   "outputs": [],
   "source": []
  }
 ],
 "metadata": {
  "kernelspec": {
   "display_name": "Python 3",
   "language": "python",
   "name": "python3"
  },
  "language_info": {
   "codemirror_mode": {
    "name": "ipython",
    "version": 3
   },
   "file_extension": ".py",
   "mimetype": "text/x-python",
   "name": "python",
   "nbconvert_exporter": "python",
   "pygments_lexer": "ipython3",
   "version": "3.6.9"
  }
 },
 "nbformat": 4,
 "nbformat_minor": 2
}
